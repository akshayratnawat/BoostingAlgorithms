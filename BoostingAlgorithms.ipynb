{
 "cells": [
  {
   "cell_type": "markdown",
   "id": "62b7eecf",
   "metadata": {},
   "source": [
    "# Boosting and Classification"
   ]
  },
  {
   "cell_type": "markdown",
   "id": "7d6cd429",
   "metadata": {},
   "source": [
    "#### -Akshay Ratnawat"
   ]
  },
  {
   "cell_type": "code",
   "execution_count": 215,
   "id": "a56e48ad",
   "metadata": {},
   "outputs": [],
   "source": [
    "# Importing Relevant Libraries\n",
    "import pandas as pd\n",
    "import numpy as np\n",
    "import matplotlib.pyplot as plt\n",
    "import seaborn as sns\n",
    "import time\n",
    "\n",
    "from sklearn.model_selection import train_test_split\n",
    "from sklearn.ensemble import RandomForestClassifier\n",
    "from sklearn.metrics import confusion_matrix\n",
    "from sklearn.metrics import classification_report\n",
    "from sklearn.metrics import roc_auc_score\n",
    "from sklearn.metrics import roc_curve\n",
    "from sklearn.metrics import precision_recall_curve\n",
    "from sklearn.metrics import auc\n",
    "\n",
    "from sklearn.model_selection import cross_val_score\n",
    "from sklearn.model_selection import GridSearchCV\n",
    "from sklearn.metrics import accuracy_score\n"
   ]
  },
  {
   "cell_type": "markdown",
   "id": "2054367b",
   "metadata": {},
   "source": [
    "### 1. Data Processing"
   ]
  },
  {
   "cell_type": "markdown",
   "id": "29c27274",
   "metadata": {},
   "source": [
    "##### a,b) Importing the data and adding the column names"
   ]
  },
  {
   "cell_type": "code",
   "execution_count": 98,
   "id": "9e1277d2",
   "metadata": {},
   "outputs": [
    {
     "data": {
      "text/html": [
       "<div>\n",
       "<style scoped>\n",
       "    .dataframe tbody tr th:only-of-type {\n",
       "        vertical-align: middle;\n",
       "    }\n",
       "\n",
       "    .dataframe tbody tr th {\n",
       "        vertical-align: top;\n",
       "    }\n",
       "\n",
       "    .dataframe thead th {\n",
       "        text-align: right;\n",
       "    }\n",
       "</style>\n",
       "<table border=\"1\" class=\"dataframe\">\n",
       "  <thead>\n",
       "    <tr style=\"text-align: right;\">\n",
       "      <th></th>\n",
       "      <th>age</th>\n",
       "      <th>workclass</th>\n",
       "      <th>fnlwgt</th>\n",
       "      <th>education</th>\n",
       "      <th>education_num</th>\n",
       "      <th>marital_status</th>\n",
       "      <th>occupation</th>\n",
       "      <th>relationship</th>\n",
       "      <th>race</th>\n",
       "      <th>sex</th>\n",
       "      <th>capital_gain</th>\n",
       "      <th>capital_loss</th>\n",
       "      <th>hours_per_week</th>\n",
       "      <th>native_country</th>\n",
       "      <th>salary</th>\n",
       "    </tr>\n",
       "  </thead>\n",
       "  <tbody>\n",
       "    <tr>\n",
       "      <th>0</th>\n",
       "      <td>39</td>\n",
       "      <td>State-gov</td>\n",
       "      <td>77516</td>\n",
       "      <td>Bachelors</td>\n",
       "      <td>13</td>\n",
       "      <td>Never-married</td>\n",
       "      <td>Adm-clerical</td>\n",
       "      <td>Not-in-family</td>\n",
       "      <td>White</td>\n",
       "      <td>Male</td>\n",
       "      <td>2174</td>\n",
       "      <td>0</td>\n",
       "      <td>40</td>\n",
       "      <td>United-States</td>\n",
       "      <td>&lt;=50K</td>\n",
       "    </tr>\n",
       "    <tr>\n",
       "      <th>1</th>\n",
       "      <td>50</td>\n",
       "      <td>Self-emp-not-inc</td>\n",
       "      <td>83311</td>\n",
       "      <td>Bachelors</td>\n",
       "      <td>13</td>\n",
       "      <td>Married-civ-spouse</td>\n",
       "      <td>Exec-managerial</td>\n",
       "      <td>Husband</td>\n",
       "      <td>White</td>\n",
       "      <td>Male</td>\n",
       "      <td>0</td>\n",
       "      <td>0</td>\n",
       "      <td>13</td>\n",
       "      <td>United-States</td>\n",
       "      <td>&lt;=50K</td>\n",
       "    </tr>\n",
       "    <tr>\n",
       "      <th>2</th>\n",
       "      <td>38</td>\n",
       "      <td>Private</td>\n",
       "      <td>215646</td>\n",
       "      <td>HS-grad</td>\n",
       "      <td>9</td>\n",
       "      <td>Divorced</td>\n",
       "      <td>Handlers-cleaners</td>\n",
       "      <td>Not-in-family</td>\n",
       "      <td>White</td>\n",
       "      <td>Male</td>\n",
       "      <td>0</td>\n",
       "      <td>0</td>\n",
       "      <td>40</td>\n",
       "      <td>United-States</td>\n",
       "      <td>&lt;=50K</td>\n",
       "    </tr>\n",
       "    <tr>\n",
       "      <th>3</th>\n",
       "      <td>53</td>\n",
       "      <td>Private</td>\n",
       "      <td>234721</td>\n",
       "      <td>11th</td>\n",
       "      <td>7</td>\n",
       "      <td>Married-civ-spouse</td>\n",
       "      <td>Handlers-cleaners</td>\n",
       "      <td>Husband</td>\n",
       "      <td>Black</td>\n",
       "      <td>Male</td>\n",
       "      <td>0</td>\n",
       "      <td>0</td>\n",
       "      <td>40</td>\n",
       "      <td>United-States</td>\n",
       "      <td>&lt;=50K</td>\n",
       "    </tr>\n",
       "    <tr>\n",
       "      <th>4</th>\n",
       "      <td>28</td>\n",
       "      <td>Private</td>\n",
       "      <td>338409</td>\n",
       "      <td>Bachelors</td>\n",
       "      <td>13</td>\n",
       "      <td>Married-civ-spouse</td>\n",
       "      <td>Prof-specialty</td>\n",
       "      <td>Wife</td>\n",
       "      <td>Black</td>\n",
       "      <td>Female</td>\n",
       "      <td>0</td>\n",
       "      <td>0</td>\n",
       "      <td>40</td>\n",
       "      <td>Cuba</td>\n",
       "      <td>&lt;=50K</td>\n",
       "    </tr>\n",
       "  </tbody>\n",
       "</table>\n",
       "</div>"
      ],
      "text/plain": [
       "   age          workclass  fnlwgt   education  education_num  \\\n",
       "0   39          State-gov   77516   Bachelors             13   \n",
       "1   50   Self-emp-not-inc   83311   Bachelors             13   \n",
       "2   38            Private  215646     HS-grad              9   \n",
       "3   53            Private  234721        11th              7   \n",
       "4   28            Private  338409   Bachelors             13   \n",
       "\n",
       "        marital_status          occupation    relationship    race      sex  \\\n",
       "0        Never-married        Adm-clerical   Not-in-family   White     Male   \n",
       "1   Married-civ-spouse     Exec-managerial         Husband   White     Male   \n",
       "2             Divorced   Handlers-cleaners   Not-in-family   White     Male   \n",
       "3   Married-civ-spouse   Handlers-cleaners         Husband   Black     Male   \n",
       "4   Married-civ-spouse      Prof-specialty            Wife   Black   Female   \n",
       "\n",
       "   capital_gain  capital_loss  hours_per_week  native_country  salary  \n",
       "0          2174             0              40   United-States   <=50K  \n",
       "1             0             0              13   United-States   <=50K  \n",
       "2             0             0              40   United-States   <=50K  \n",
       "3             0             0              40   United-States   <=50K  \n",
       "4             0             0              40            Cuba   <=50K  "
      ]
     },
     "execution_count": 98,
     "metadata": {},
     "output_type": "execute_result"
    }
   ],
   "source": [
    "data = pd.read_csv('https://archive.ics.uci.edu/ml/machine-learning-databases/adult/adult.data', \n",
    "                   header = None, names = ['age', 'workclass', 'fnlwgt', 'education', 'education_num', 'marital_status',\n",
    "                                           'occupation', 'relationship', 'race', 'sex', 'capital_gain', 'capital_loss',\n",
    "                                            'hours_per_week', 'native_country', 'salary'])\n",
    "data.head()"
   ]
  },
  {
   "cell_type": "markdown",
   "id": "bc2136a9",
   "metadata": {},
   "source": [
    "##### c) Check your dataframe shape to verify that you have the correct # of rows and columns"
   ]
  },
  {
   "cell_type": "code",
   "execution_count": 99,
   "id": "9242b062",
   "metadata": {},
   "outputs": [
    {
     "data": {
      "text/plain": [
       "(32561, 15)"
      ]
     },
     "execution_count": 99,
     "metadata": {},
     "output_type": "execute_result"
    }
   ],
   "source": [
    "data.shape"
   ]
  },
  {
   "cell_type": "markdown",
   "id": "08b66793",
   "metadata": {},
   "source": [
    "##### d) Drop the 3rd column from the data fnlwgt"
   ]
  },
  {
   "cell_type": "code",
   "execution_count": 100,
   "id": "2bcd295b",
   "metadata": {},
   "outputs": [
    {
     "data": {
      "text/html": [
       "<div>\n",
       "<style scoped>\n",
       "    .dataframe tbody tr th:only-of-type {\n",
       "        vertical-align: middle;\n",
       "    }\n",
       "\n",
       "    .dataframe tbody tr th {\n",
       "        vertical-align: top;\n",
       "    }\n",
       "\n",
       "    .dataframe thead th {\n",
       "        text-align: right;\n",
       "    }\n",
       "</style>\n",
       "<table border=\"1\" class=\"dataframe\">\n",
       "  <thead>\n",
       "    <tr style=\"text-align: right;\">\n",
       "      <th></th>\n",
       "      <th>age</th>\n",
       "      <th>workclass</th>\n",
       "      <th>education</th>\n",
       "      <th>education_num</th>\n",
       "      <th>marital_status</th>\n",
       "      <th>occupation</th>\n",
       "      <th>relationship</th>\n",
       "      <th>race</th>\n",
       "      <th>sex</th>\n",
       "      <th>capital_gain</th>\n",
       "      <th>capital_loss</th>\n",
       "      <th>hours_per_week</th>\n",
       "      <th>native_country</th>\n",
       "      <th>salary</th>\n",
       "    </tr>\n",
       "  </thead>\n",
       "  <tbody>\n",
       "    <tr>\n",
       "      <th>0</th>\n",
       "      <td>39</td>\n",
       "      <td>State-gov</td>\n",
       "      <td>Bachelors</td>\n",
       "      <td>13</td>\n",
       "      <td>Never-married</td>\n",
       "      <td>Adm-clerical</td>\n",
       "      <td>Not-in-family</td>\n",
       "      <td>White</td>\n",
       "      <td>Male</td>\n",
       "      <td>2174</td>\n",
       "      <td>0</td>\n",
       "      <td>40</td>\n",
       "      <td>United-States</td>\n",
       "      <td>&lt;=50K</td>\n",
       "    </tr>\n",
       "    <tr>\n",
       "      <th>1</th>\n",
       "      <td>50</td>\n",
       "      <td>Self-emp-not-inc</td>\n",
       "      <td>Bachelors</td>\n",
       "      <td>13</td>\n",
       "      <td>Married-civ-spouse</td>\n",
       "      <td>Exec-managerial</td>\n",
       "      <td>Husband</td>\n",
       "      <td>White</td>\n",
       "      <td>Male</td>\n",
       "      <td>0</td>\n",
       "      <td>0</td>\n",
       "      <td>13</td>\n",
       "      <td>United-States</td>\n",
       "      <td>&lt;=50K</td>\n",
       "    </tr>\n",
       "    <tr>\n",
       "      <th>2</th>\n",
       "      <td>38</td>\n",
       "      <td>Private</td>\n",
       "      <td>HS-grad</td>\n",
       "      <td>9</td>\n",
       "      <td>Divorced</td>\n",
       "      <td>Handlers-cleaners</td>\n",
       "      <td>Not-in-family</td>\n",
       "      <td>White</td>\n",
       "      <td>Male</td>\n",
       "      <td>0</td>\n",
       "      <td>0</td>\n",
       "      <td>40</td>\n",
       "      <td>United-States</td>\n",
       "      <td>&lt;=50K</td>\n",
       "    </tr>\n",
       "    <tr>\n",
       "      <th>3</th>\n",
       "      <td>53</td>\n",
       "      <td>Private</td>\n",
       "      <td>11th</td>\n",
       "      <td>7</td>\n",
       "      <td>Married-civ-spouse</td>\n",
       "      <td>Handlers-cleaners</td>\n",
       "      <td>Husband</td>\n",
       "      <td>Black</td>\n",
       "      <td>Male</td>\n",
       "      <td>0</td>\n",
       "      <td>0</td>\n",
       "      <td>40</td>\n",
       "      <td>United-States</td>\n",
       "      <td>&lt;=50K</td>\n",
       "    </tr>\n",
       "    <tr>\n",
       "      <th>4</th>\n",
       "      <td>28</td>\n",
       "      <td>Private</td>\n",
       "      <td>Bachelors</td>\n",
       "      <td>13</td>\n",
       "      <td>Married-civ-spouse</td>\n",
       "      <td>Prof-specialty</td>\n",
       "      <td>Wife</td>\n",
       "      <td>Black</td>\n",
       "      <td>Female</td>\n",
       "      <td>0</td>\n",
       "      <td>0</td>\n",
       "      <td>40</td>\n",
       "      <td>Cuba</td>\n",
       "      <td>&lt;=50K</td>\n",
       "    </tr>\n",
       "  </tbody>\n",
       "</table>\n",
       "</div>"
      ],
      "text/plain": [
       "   age          workclass   education  education_num       marital_status  \\\n",
       "0   39          State-gov   Bachelors             13        Never-married   \n",
       "1   50   Self-emp-not-inc   Bachelors             13   Married-civ-spouse   \n",
       "2   38            Private     HS-grad              9             Divorced   \n",
       "3   53            Private        11th              7   Married-civ-spouse   \n",
       "4   28            Private   Bachelors             13   Married-civ-spouse   \n",
       "\n",
       "           occupation    relationship    race      sex  capital_gain  \\\n",
       "0        Adm-clerical   Not-in-family   White     Male          2174   \n",
       "1     Exec-managerial         Husband   White     Male             0   \n",
       "2   Handlers-cleaners   Not-in-family   White     Male             0   \n",
       "3   Handlers-cleaners         Husband   Black     Male             0   \n",
       "4      Prof-specialty            Wife   Black   Female             0   \n",
       "\n",
       "   capital_loss  hours_per_week  native_country  salary  \n",
       "0             0              40   United-States   <=50K  \n",
       "1             0              13   United-States   <=50K  \n",
       "2             0              40   United-States   <=50K  \n",
       "3             0              40   United-States   <=50K  \n",
       "4             0              40            Cuba   <=50K  "
      ]
     },
     "execution_count": 100,
     "metadata": {},
     "output_type": "execute_result"
    }
   ],
   "source": [
    "data = data[['age', 'workclass', 'education', 'education_num', 'marital_status','occupation', 'relationship', 'race', 'sex', 'capital_gain', 'capital_loss',\n",
    "            'hours_per_week', 'native_country', 'salary']]\n",
    "data.head()"
   ]
  },
  {
   "cell_type": "code",
   "execution_count": 101,
   "id": "650692c8",
   "metadata": {},
   "outputs": [
    {
     "name": "stdout",
     "output_type": "stream",
     "text": [
      "<class 'pandas.core.frame.DataFrame'>\n",
      "RangeIndex: 32561 entries, 0 to 32560\n",
      "Data columns (total 14 columns):\n",
      " #   Column          Non-Null Count  Dtype \n",
      "---  ------          --------------  ----- \n",
      " 0   age             32561 non-null  int64 \n",
      " 1   workclass       32561 non-null  object\n",
      " 2   education       32561 non-null  object\n",
      " 3   education_num   32561 non-null  int64 \n",
      " 4   marital_status  32561 non-null  object\n",
      " 5   occupation      32561 non-null  object\n",
      " 6   relationship    32561 non-null  object\n",
      " 7   race            32561 non-null  object\n",
      " 8   sex             32561 non-null  object\n",
      " 9   capital_gain    32561 non-null  int64 \n",
      " 10  capital_loss    32561 non-null  int64 \n",
      " 11  hours_per_week  32561 non-null  int64 \n",
      " 12  native_country  32561 non-null  object\n",
      " 13  salary          32561 non-null  object\n",
      "dtypes: int64(5), object(9)\n",
      "memory usage: 3.5+ MB\n"
     ]
    }
   ],
   "source": [
    "# Checking the data types and Null values if any\n",
    "data.info()"
   ]
  },
  {
   "cell_type": "markdown",
   "id": "b6b903f6",
   "metadata": {},
   "source": [
    "Changing the salary column to Binary variable"
   ]
  },
  {
   "cell_type": "markdown",
   "id": "b5b4d17e",
   "metadata": {},
   "source": [
    "##### f) Make the following changes to the \"salary\" column:\n",
    "\"<=50K\" should become 0 \n",
    "\n",
    "\">50K\" should become 1"
   ]
  },
  {
   "cell_type": "code",
   "execution_count": 102,
   "id": "4ff952f0",
   "metadata": {},
   "outputs": [
    {
     "data": {
      "text/plain": [
       " <=50K    24720\n",
       " >50K      7841\n",
       "Name: salary, dtype: int64"
      ]
     },
     "execution_count": 102,
     "metadata": {},
     "output_type": "execute_result"
    }
   ],
   "source": [
    "data['salary'].value_counts()"
   ]
  },
  {
   "cell_type": "code",
   "execution_count": 103,
   "id": "38f79480",
   "metadata": {},
   "outputs": [
    {
     "data": {
      "text/html": [
       "<div>\n",
       "<style scoped>\n",
       "    .dataframe tbody tr th:only-of-type {\n",
       "        vertical-align: middle;\n",
       "    }\n",
       "\n",
       "    .dataframe tbody tr th {\n",
       "        vertical-align: top;\n",
       "    }\n",
       "\n",
       "    .dataframe thead th {\n",
       "        text-align: right;\n",
       "    }\n",
       "</style>\n",
       "<table border=\"1\" class=\"dataframe\">\n",
       "  <thead>\n",
       "    <tr style=\"text-align: right;\">\n",
       "      <th></th>\n",
       "      <th>age</th>\n",
       "      <th>workclass</th>\n",
       "      <th>education</th>\n",
       "      <th>education_num</th>\n",
       "      <th>marital_status</th>\n",
       "      <th>occupation</th>\n",
       "      <th>relationship</th>\n",
       "      <th>race</th>\n",
       "      <th>sex</th>\n",
       "      <th>capital_gain</th>\n",
       "      <th>capital_loss</th>\n",
       "      <th>hours_per_week</th>\n",
       "      <th>native_country</th>\n",
       "      <th>salary</th>\n",
       "    </tr>\n",
       "  </thead>\n",
       "  <tbody>\n",
       "    <tr>\n",
       "      <th>0</th>\n",
       "      <td>39</td>\n",
       "      <td>State-gov</td>\n",
       "      <td>Bachelors</td>\n",
       "      <td>13</td>\n",
       "      <td>Never-married</td>\n",
       "      <td>Adm-clerical</td>\n",
       "      <td>Not-in-family</td>\n",
       "      <td>White</td>\n",
       "      <td>Male</td>\n",
       "      <td>2174</td>\n",
       "      <td>0</td>\n",
       "      <td>40</td>\n",
       "      <td>United-States</td>\n",
       "      <td>0</td>\n",
       "    </tr>\n",
       "    <tr>\n",
       "      <th>1</th>\n",
       "      <td>50</td>\n",
       "      <td>Self-emp-not-inc</td>\n",
       "      <td>Bachelors</td>\n",
       "      <td>13</td>\n",
       "      <td>Married-civ-spouse</td>\n",
       "      <td>Exec-managerial</td>\n",
       "      <td>Husband</td>\n",
       "      <td>White</td>\n",
       "      <td>Male</td>\n",
       "      <td>0</td>\n",
       "      <td>0</td>\n",
       "      <td>13</td>\n",
       "      <td>United-States</td>\n",
       "      <td>0</td>\n",
       "    </tr>\n",
       "    <tr>\n",
       "      <th>2</th>\n",
       "      <td>38</td>\n",
       "      <td>Private</td>\n",
       "      <td>HS-grad</td>\n",
       "      <td>9</td>\n",
       "      <td>Divorced</td>\n",
       "      <td>Handlers-cleaners</td>\n",
       "      <td>Not-in-family</td>\n",
       "      <td>White</td>\n",
       "      <td>Male</td>\n",
       "      <td>0</td>\n",
       "      <td>0</td>\n",
       "      <td>40</td>\n",
       "      <td>United-States</td>\n",
       "      <td>0</td>\n",
       "    </tr>\n",
       "    <tr>\n",
       "      <th>3</th>\n",
       "      <td>53</td>\n",
       "      <td>Private</td>\n",
       "      <td>11th</td>\n",
       "      <td>7</td>\n",
       "      <td>Married-civ-spouse</td>\n",
       "      <td>Handlers-cleaners</td>\n",
       "      <td>Husband</td>\n",
       "      <td>Black</td>\n",
       "      <td>Male</td>\n",
       "      <td>0</td>\n",
       "      <td>0</td>\n",
       "      <td>40</td>\n",
       "      <td>United-States</td>\n",
       "      <td>0</td>\n",
       "    </tr>\n",
       "    <tr>\n",
       "      <th>4</th>\n",
       "      <td>28</td>\n",
       "      <td>Private</td>\n",
       "      <td>Bachelors</td>\n",
       "      <td>13</td>\n",
       "      <td>Married-civ-spouse</td>\n",
       "      <td>Prof-specialty</td>\n",
       "      <td>Wife</td>\n",
       "      <td>Black</td>\n",
       "      <td>Female</td>\n",
       "      <td>0</td>\n",
       "      <td>0</td>\n",
       "      <td>40</td>\n",
       "      <td>Cuba</td>\n",
       "      <td>0</td>\n",
       "    </tr>\n",
       "  </tbody>\n",
       "</table>\n",
       "</div>"
      ],
      "text/plain": [
       "   age          workclass   education  education_num       marital_status  \\\n",
       "0   39          State-gov   Bachelors             13        Never-married   \n",
       "1   50   Self-emp-not-inc   Bachelors             13   Married-civ-spouse   \n",
       "2   38            Private     HS-grad              9             Divorced   \n",
       "3   53            Private        11th              7   Married-civ-spouse   \n",
       "4   28            Private   Bachelors             13   Married-civ-spouse   \n",
       "\n",
       "           occupation    relationship    race      sex  capital_gain  \\\n",
       "0        Adm-clerical   Not-in-family   White     Male          2174   \n",
       "1     Exec-managerial         Husband   White     Male             0   \n",
       "2   Handlers-cleaners   Not-in-family   White     Male             0   \n",
       "3   Handlers-cleaners         Husband   Black     Male             0   \n",
       "4      Prof-specialty            Wife   Black   Female             0   \n",
       "\n",
       "   capital_loss  hours_per_week  native_country  salary  \n",
       "0             0              40   United-States       0  \n",
       "1             0              13   United-States       0  \n",
       "2             0              40   United-States       0  \n",
       "3             0              40   United-States       0  \n",
       "4             0              40            Cuba       0  "
      ]
     },
     "execution_count": 103,
     "metadata": {},
     "output_type": "execute_result"
    }
   ],
   "source": [
    "#data['salary'] = np.where(data['salary'] == ' <=50K', 0, 1)\n",
    "data['salary'] = data['salary'].replace({\" >50K\": 1,\n",
    "                                              \" <=50K\":0})\n",
    "data.head()"
   ]
  },
  {
   "cell_type": "markdown",
   "id": "04b764cb",
   "metadata": {},
   "source": [
    "##### g) Create your X dataframe (just your predictors). It should include every feature except for the target variable which is \"salary\"."
   ]
  },
  {
   "cell_type": "code",
   "execution_count": 104,
   "id": "06a45ac6",
   "metadata": {},
   "outputs": [
    {
     "data": {
      "text/plain": [
       "(32561, 13)"
      ]
     },
     "execution_count": 104,
     "metadata": {},
     "output_type": "execute_result"
    }
   ],
   "source": [
    "X = data.drop('salary', axis = 1)\n",
    "X.shape"
   ]
  },
  {
   "cell_type": "markdown",
   "id": "52a28e1f",
   "metadata": {},
   "source": [
    "##### h) Create your y dataframe (just your target variable). It should only be \"salary\"."
   ]
  },
  {
   "cell_type": "code",
   "execution_count": 105,
   "id": "a0efa4dc",
   "metadata": {},
   "outputs": [
    {
     "data": {
      "text/plain": [
       "(32561,)"
      ]
     },
     "execution_count": 105,
     "metadata": {},
     "output_type": "execute_result"
    }
   ],
   "source": [
    "y = data['salary']\n",
    "y.shape"
   ]
  },
  {
   "cell_type": "code",
   "execution_count": 96,
   "id": "fb3f883c",
   "metadata": {},
   "outputs": [
    {
     "data": {
      "text/plain": [
       "0    24720\n",
       "1     7841\n",
       "Name: salary, dtype: int64"
      ]
     },
     "execution_count": 96,
     "metadata": {},
     "output_type": "execute_result"
    }
   ],
   "source": [
    "y.value_counts()"
   ]
  },
  {
   "cell_type": "markdown",
   "id": "c04c061e",
   "metadata": {},
   "source": [
    "##### i) Doing One Hot Encoding\n",
    "(Note: Decision Trees do not require One Hot Encoding)"
   ]
  },
  {
   "cell_type": "code",
   "execution_count": 110,
   "id": "4be4c42a",
   "metadata": {},
   "outputs": [
    {
     "data": {
      "text/html": [
       "<div>\n",
       "<style scoped>\n",
       "    .dataframe tbody tr th:only-of-type {\n",
       "        vertical-align: middle;\n",
       "    }\n",
       "\n",
       "    .dataframe tbody tr th {\n",
       "        vertical-align: top;\n",
       "    }\n",
       "\n",
       "    .dataframe thead th {\n",
       "        text-align: right;\n",
       "    }\n",
       "</style>\n",
       "<table border=\"1\" class=\"dataframe\">\n",
       "  <thead>\n",
       "    <tr style=\"text-align: right;\">\n",
       "      <th></th>\n",
       "      <th>age</th>\n",
       "      <th>education_num</th>\n",
       "      <th>capital_gain</th>\n",
       "      <th>capital_loss</th>\n",
       "      <th>hours_per_week</th>\n",
       "      <th>workclass_ ?</th>\n",
       "      <th>workclass_ Federal-gov</th>\n",
       "      <th>workclass_ Local-gov</th>\n",
       "      <th>workclass_ Never-worked</th>\n",
       "      <th>workclass_ Private</th>\n",
       "      <th>...</th>\n",
       "      <th>native_country_ Portugal</th>\n",
       "      <th>native_country_ Puerto-Rico</th>\n",
       "      <th>native_country_ Scotland</th>\n",
       "      <th>native_country_ South</th>\n",
       "      <th>native_country_ Taiwan</th>\n",
       "      <th>native_country_ Thailand</th>\n",
       "      <th>native_country_ Trinadad&amp;Tobago</th>\n",
       "      <th>native_country_ United-States</th>\n",
       "      <th>native_country_ Vietnam</th>\n",
       "      <th>native_country_ Yugoslavia</th>\n",
       "    </tr>\n",
       "  </thead>\n",
       "  <tbody>\n",
       "    <tr>\n",
       "      <th>0</th>\n",
       "      <td>39</td>\n",
       "      <td>13</td>\n",
       "      <td>2174</td>\n",
       "      <td>0</td>\n",
       "      <td>40</td>\n",
       "      <td>0</td>\n",
       "      <td>0</td>\n",
       "      <td>0</td>\n",
       "      <td>0</td>\n",
       "      <td>0</td>\n",
       "      <td>...</td>\n",
       "      <td>0</td>\n",
       "      <td>0</td>\n",
       "      <td>0</td>\n",
       "      <td>0</td>\n",
       "      <td>0</td>\n",
       "      <td>0</td>\n",
       "      <td>0</td>\n",
       "      <td>1</td>\n",
       "      <td>0</td>\n",
       "      <td>0</td>\n",
       "    </tr>\n",
       "    <tr>\n",
       "      <th>1</th>\n",
       "      <td>50</td>\n",
       "      <td>13</td>\n",
       "      <td>0</td>\n",
       "      <td>0</td>\n",
       "      <td>13</td>\n",
       "      <td>0</td>\n",
       "      <td>0</td>\n",
       "      <td>0</td>\n",
       "      <td>0</td>\n",
       "      <td>0</td>\n",
       "      <td>...</td>\n",
       "      <td>0</td>\n",
       "      <td>0</td>\n",
       "      <td>0</td>\n",
       "      <td>0</td>\n",
       "      <td>0</td>\n",
       "      <td>0</td>\n",
       "      <td>0</td>\n",
       "      <td>1</td>\n",
       "      <td>0</td>\n",
       "      <td>0</td>\n",
       "    </tr>\n",
       "    <tr>\n",
       "      <th>2</th>\n",
       "      <td>38</td>\n",
       "      <td>9</td>\n",
       "      <td>0</td>\n",
       "      <td>0</td>\n",
       "      <td>40</td>\n",
       "      <td>0</td>\n",
       "      <td>0</td>\n",
       "      <td>0</td>\n",
       "      <td>0</td>\n",
       "      <td>1</td>\n",
       "      <td>...</td>\n",
       "      <td>0</td>\n",
       "      <td>0</td>\n",
       "      <td>0</td>\n",
       "      <td>0</td>\n",
       "      <td>0</td>\n",
       "      <td>0</td>\n",
       "      <td>0</td>\n",
       "      <td>1</td>\n",
       "      <td>0</td>\n",
       "      <td>0</td>\n",
       "    </tr>\n",
       "    <tr>\n",
       "      <th>3</th>\n",
       "      <td>53</td>\n",
       "      <td>7</td>\n",
       "      <td>0</td>\n",
       "      <td>0</td>\n",
       "      <td>40</td>\n",
       "      <td>0</td>\n",
       "      <td>0</td>\n",
       "      <td>0</td>\n",
       "      <td>0</td>\n",
       "      <td>1</td>\n",
       "      <td>...</td>\n",
       "      <td>0</td>\n",
       "      <td>0</td>\n",
       "      <td>0</td>\n",
       "      <td>0</td>\n",
       "      <td>0</td>\n",
       "      <td>0</td>\n",
       "      <td>0</td>\n",
       "      <td>1</td>\n",
       "      <td>0</td>\n",
       "      <td>0</td>\n",
       "    </tr>\n",
       "    <tr>\n",
       "      <th>4</th>\n",
       "      <td>28</td>\n",
       "      <td>13</td>\n",
       "      <td>0</td>\n",
       "      <td>0</td>\n",
       "      <td>40</td>\n",
       "      <td>0</td>\n",
       "      <td>0</td>\n",
       "      <td>0</td>\n",
       "      <td>0</td>\n",
       "      <td>1</td>\n",
       "      <td>...</td>\n",
       "      <td>0</td>\n",
       "      <td>0</td>\n",
       "      <td>0</td>\n",
       "      <td>0</td>\n",
       "      <td>0</td>\n",
       "      <td>0</td>\n",
       "      <td>0</td>\n",
       "      <td>0</td>\n",
       "      <td>0</td>\n",
       "      <td>0</td>\n",
       "    </tr>\n",
       "  </tbody>\n",
       "</table>\n",
       "<p>5 rows × 107 columns</p>\n",
       "</div>"
      ],
      "text/plain": [
       "   age  education_num  capital_gain  capital_loss  hours_per_week  \\\n",
       "0   39             13          2174             0              40   \n",
       "1   50             13             0             0              13   \n",
       "2   38              9             0             0              40   \n",
       "3   53              7             0             0              40   \n",
       "4   28             13             0             0              40   \n",
       "\n",
       "   workclass_ ?  workclass_ Federal-gov  workclass_ Local-gov  \\\n",
       "0             0                       0                     0   \n",
       "1             0                       0                     0   \n",
       "2             0                       0                     0   \n",
       "3             0                       0                     0   \n",
       "4             0                       0                     0   \n",
       "\n",
       "   workclass_ Never-worked  workclass_ Private  ...  native_country_ Portugal  \\\n",
       "0                        0                   0  ...                         0   \n",
       "1                        0                   0  ...                         0   \n",
       "2                        0                   1  ...                         0   \n",
       "3                        0                   1  ...                         0   \n",
       "4                        0                   1  ...                         0   \n",
       "\n",
       "   native_country_ Puerto-Rico  native_country_ Scotland  \\\n",
       "0                            0                         0   \n",
       "1                            0                         0   \n",
       "2                            0                         0   \n",
       "3                            0                         0   \n",
       "4                            0                         0   \n",
       "\n",
       "   native_country_ South  native_country_ Taiwan  native_country_ Thailand  \\\n",
       "0                      0                       0                         0   \n",
       "1                      0                       0                         0   \n",
       "2                      0                       0                         0   \n",
       "3                      0                       0                         0   \n",
       "4                      0                       0                         0   \n",
       "\n",
       "   native_country_ Trinadad&Tobago  native_country_ United-States  \\\n",
       "0                                0                              1   \n",
       "1                                0                              1   \n",
       "2                                0                              1   \n",
       "3                                0                              1   \n",
       "4                                0                              0   \n",
       "\n",
       "   native_country_ Vietnam  native_country_ Yugoslavia  \n",
       "0                        0                           0  \n",
       "1                        0                           0  \n",
       "2                        0                           0  \n",
       "3                        0                           0  \n",
       "4                        0                           0  \n",
       "\n",
       "[5 rows x 107 columns]"
      ]
     },
     "execution_count": 110,
     "metadata": {},
     "output_type": "execute_result"
    }
   ],
   "source": [
    "X_encoded = pd.get_dummies(X)\n",
    "X_encoded.shape\n",
    "X_encoded.head()"
   ]
  },
  {
   "cell_type": "markdown",
   "id": "031a60a2",
   "metadata": {},
   "source": [
    "##### j) Split data into train / test set using an 70/30 split. Verify that you have the same number of columns in your X_train and X_test."
   ]
  },
  {
   "cell_type": "code",
   "execution_count": 116,
   "id": "6a7a7367",
   "metadata": {},
   "outputs": [
    {
     "name": "stdout",
     "output_type": "stream",
     "text": [
      "Size of X_train is:  (22792, 107)\n",
      "Size of y_train is:  (22792,)\n",
      "Size of X_test is:  (9769, 107)\n",
      "Size of y_test is:  (9769,)\n"
     ]
    }
   ],
   "source": [
    "X_train, X_test, y_train, y_test = train_test_split(X_encoded, y, test_size=0.30, random_state=42)\n",
    "\n",
    "print(\"Size of X_train is: \", X_train.shape)\n",
    "print(\"Size of y_train is: \", y_train.shape)\n",
    "\n",
    "print(\"Size of X_test is: \", X_test.shape)\n",
    "print(\"Size of y_test is: \", y_test.shape)"
   ]
  },
  {
   "cell_type": "markdown",
   "id": "5e3440de",
   "metadata": {},
   "source": [
    "## 2. Random Forest Classifier - Base Model:"
   ]
  },
  {
   "cell_type": "markdown",
   "id": "0c6ec07b",
   "metadata": {},
   "source": [
    "##### a) Use the RandomForestClassifier in sklearn. Fit your model on the training data."
   ]
  },
  {
   "cell_type": "code",
   "execution_count": 153,
   "id": "eb77d590",
   "metadata": {},
   "outputs": [
    {
     "data": {
      "text/plain": [
       "RandomForestClassifier(random_state=100)"
      ]
     },
     "execution_count": 153,
     "metadata": {},
     "output_type": "execute_result"
    }
   ],
   "source": [
    "rfc = RandomForestClassifier(random_state=100)\n",
    "rfc.fit(X_train, y_train)"
   ]
  },
  {
   "cell_type": "code",
   "execution_count": 154,
   "id": "039b8612",
   "metadata": {},
   "outputs": [],
   "source": [
    "base_train_pred = rfc.predict(X_train)\n",
    "base_train_pred_prob = rfc.predict_proba(X_train)\n",
    "\n",
    "base_test_pred = rfc.predict(X_test)\n",
    "base_test_pred_prob = rfc.predict_proba(X_test)"
   ]
  },
  {
   "cell_type": "code",
   "execution_count": 155,
   "id": "b4bb8661",
   "metadata": {},
   "outputs": [
    {
     "name": "stdout",
     "output_type": "stream",
     "text": [
      "              precision    recall  f1-score   support\n",
      "\n",
      "           0       0.89      0.92      0.90      7455\n",
      "           1       0.70      0.63      0.66      2314\n",
      "\n",
      "    accuracy                           0.85      9769\n",
      "   macro avg       0.79      0.77      0.78      9769\n",
      "weighted avg       0.84      0.85      0.84      9769\n",
      "\n"
     ]
    }
   ],
   "source": [
    "print(classification_report(y_test, base_test_pred))"
   ]
  },
  {
   "cell_type": "code",
   "execution_count": 181,
   "id": "7fdf9d4f",
   "metadata": {},
   "outputs": [
    {
     "data": {
      "text/plain": [
       "0.888003561559504"
      ]
     },
     "execution_count": 181,
     "metadata": {},
     "output_type": "execute_result"
    }
   ],
   "source": [
    "test_base_rfc_roc_auc_score = roc_auc_score(y_test, rfc.predict_proba(X_test)[:, 1])\n",
    "test_base_rfc_roc_auc_score"
   ]
  },
  {
   "cell_type": "code",
   "execution_count": 182,
   "id": "e902bb0a",
   "metadata": {},
   "outputs": [
    {
     "data": {
      "text/plain": [
       "0.9978626735687288"
      ]
     },
     "execution_count": 182,
     "metadata": {},
     "output_type": "execute_result"
    }
   ],
   "source": [
    "train_base_rfc_roc_auc_score = roc_auc_score(y_train, rfc.predict_proba(X_train)[:, 1])\n",
    "train_base_rfc_roc_auc_score"
   ]
  },
  {
   "cell_type": "code",
   "execution_count": 183,
   "id": "4b34d3a9",
   "metadata": {},
   "outputs": [
    {
     "data": {
      "text/plain": [
       "0.7255415191627044"
      ]
     },
     "execution_count": 183,
     "metadata": {},
     "output_type": "execute_result"
    }
   ],
   "source": [
    "precision, recall, _ = precision_recall_curve(y_test, rfc.predict_proba(X_test)[:, 1])\n",
    "test_base_rfc_auc_score = auc(recall, precision)\n",
    "test_base_rfc_auc_score"
   ]
  },
  {
   "cell_type": "code",
   "execution_count": 184,
   "id": "4c0671b0",
   "metadata": {},
   "outputs": [
    {
     "data": {
      "text/plain": [
       "0.9939742069150252"
      ]
     },
     "execution_count": 184,
     "metadata": {},
     "output_type": "execute_result"
    }
   ],
   "source": [
    "precision, recall, _ = precision_recall_curve(y_train, rfc.predict_proba(X_train)[:, 1])\n",
    "train_base_rfc_auc_score = auc(recall, precision)\n",
    "train_base_rfc_auc_score"
   ]
  },
  {
   "cell_type": "code",
   "execution_count": 163,
   "id": "fa2306a2",
   "metadata": {},
   "outputs": [
    {
     "data": {
      "text/plain": [
       "Text(0.5, 1.0, 'Test Data Precision Recall Curve')"
      ]
     },
     "execution_count": 163,
     "metadata": {},
     "output_type": "execute_result"
    },
    {
     "data": {
      "image/png": "[encoded data removed]",
      "text/plain": [
       "<Figure size 576x432 with 1 Axes>"
      ]
     },
     "metadata": {
      "needs_background": "light"
     },
     "output_type": "display_data"
    }
   ],
   "source": [
    "# generate a no skill prediction (majority class)\n",
    "ns_probs = [0 for _ in range(len(y_test))]\n",
    "\n",
    "# calculate roc curves\n",
    "rfc_fpr, rfc_tpr, _ = roc_curve(y_test, rfc.predict_proba(X_test)[:, 1])\n",
    "ns_fpr, ns_tpr, _ = roc_curve(y_test, ns_probs)\n",
    "\n",
    "# plot the roc curve for the model\n",
    "plt.figure(figsize=(8,6))\n",
    "plt.plot(ns_fpr, ns_tpr, linestyle='--', label='No Skill')\n",
    "plt.plot(rfc_fpr, rfc_tpr, color ='blue', label='Base Random Forest')\n",
    "plt.legend()\n",
    "plt.title('Test Data Precision Recall Curve')"
   ]
  },
  {
   "cell_type": "code",
   "execution_count": 141,
   "id": "307d0cca",
   "metadata": {},
   "outputs": [],
   "source": [
    "# Doing a Grid Search for Random Forest\n",
    "rfc = RandomForestClassifier(random_state=42, n_jobs= -1)\n",
    "\n",
    "# Defining the Grid\n",
    "param_grid = { \n",
    "    'n_estimators': [50, 100, 500 ],\n",
    "    'max_features': [2,4, 'sqrt', \"auto\",\"log2\"],\n",
    "    'max_depth' : [6, 8, 10, 12],\n",
    "    'min_samples_split':[3,4,5,6,7,8]\n",
    "}\n",
    "\n"
   ]
  },
  {
   "cell_type": "code",
   "execution_count": 206,
   "id": "3a2d85ec",
   "metadata": {},
   "outputs": [
    {
     "data": {
      "text/plain": [
       "GridSearchCV(cv=5, estimator=RandomForestClassifier(random_state=100),\n",
       "             param_grid={'max_depth': [6, 8, 10, 12],\n",
       "                         'max_features': [2, 4, 'sqrt', 'auto', 'log2'],\n",
       "                         'min_samples_split': [3, 4, 5, 6, 7, 8],\n",
       "                         'n_estimators': [50, 100, 500]},\n",
       "             scoring='roc_auc')"
      ]
     },
     "execution_count": 206,
     "metadata": {},
     "output_type": "execute_result"
    }
   ],
   "source": [
    "# Finding the Best Parameters\n",
    "CV_rfc = GridSearchCV(estimator=rfc, param_grid=param_grid, cv= 5, scoring= 'roc_auc')\n",
    "CV_rfc.fit(X_train, y_train)"
   ]
  },
  {
   "cell_type": "code",
   "execution_count": 209,
   "id": "9b80449e",
   "metadata": {},
   "outputs": [
    {
     "data": {
      "text/plain": [
       "RandomForestClassifier(max_depth=12, max_features='sqrt', min_samples_split=4,\n",
       "                       n_estimators=500, random_state=100)"
      ]
     },
     "execution_count": 209,
     "metadata": {},
     "output_type": "execute_result"
    }
   ],
   "source": [
    "CV_rfc.best_estimator_"
   ]
  },
  {
   "cell_type": "code",
   "execution_count": 210,
   "id": "530c186e",
   "metadata": {},
   "outputs": [
    {
     "data": {
      "text/plain": [
       "RandomForestClassifier(max_depth=12, max_features='sqrt', min_samples_split=4,\n",
       "                       n_estimators=500, random_state=100)"
      ]
     },
     "execution_count": 210,
     "metadata": {},
     "output_type": "execute_result"
    }
   ],
   "source": [
    "# Fitting the model again with the best parameters\n",
    "rfc_best = RandomForestClassifier(max_depth=12, max_features='sqrt', min_samples_split=4, n_estimators=500, random_state=100)\n",
    "rfc_best.fit(X_train, y_train)"
   ]
  },
  {
   "cell_type": "markdown",
   "id": "c51c3a41",
   "metadata": {},
   "source": [
    "##### b) Use the fitted model to predict on test data."
   ]
  },
  {
   "cell_type": "code",
   "execution_count": 214,
   "id": "c474d54b",
   "metadata": {},
   "outputs": [
    {
     "name": "stdout",
     "output_type": "stream",
     "text": [
      "It took 6.649506092071533 seconds.\n"
     ]
    }
   ],
   "source": [
    "best_train_pred = rfc_best.predict(X_train)\n",
    "best_train_pred_prob = rfc_best.predict_proba(X_train)\n",
    "\n",
    "best_test_pred = rfc_best.predict(X_test)\n",
    "best_test_pred_prob = rfc_best.predict_proba(X_test)\n",
    "\n"
   ]
  },
  {
   "cell_type": "markdown",
   "id": "77da556f",
   "metadata": {},
   "source": [
    "##### c) Calculate the confusion matrix and classification report (both are in sklearn.metrics). "
   ]
  },
  {
   "cell_type": "code",
   "execution_count": 216,
   "id": "d0bc0a0a",
   "metadata": {},
   "outputs": [
    {
     "name": "stdout",
     "output_type": "stream",
     "text": [
      "[[7112  343]\n",
      " [1039 1275]]\n",
      "              precision    recall  f1-score   support\n",
      "\n",
      "           0       0.87      0.95      0.91      7455\n",
      "           1       0.79      0.55      0.65      2314\n",
      "\n",
      "    accuracy                           0.86      9769\n",
      "   macro avg       0.83      0.75      0.78      9769\n",
      "weighted avg       0.85      0.86      0.85      9769\n",
      "\n"
     ]
    }
   ],
   "source": [
    "print(confusion_matrix(y_test, best_test_pred))\n",
    "print(classification_report(y_test, best_test_pred))"
   ]
  },
  {
   "cell_type": "markdown",
   "id": "957fab6d",
   "metadata": {},
   "source": [
    "##### d) Calculate the AUC score"
   ]
  },
  {
   "cell_type": "code",
   "execution_count": 217,
   "id": "03a92045",
   "metadata": {},
   "outputs": [
    {
     "data": {
      "text/plain": [
       "0.9126052483150124"
      ]
     },
     "execution_count": 217,
     "metadata": {},
     "output_type": "execute_result"
    }
   ],
   "source": [
    "test_rfc_best_roc_auc_score = roc_auc_score(y_test, rfc_best.predict_proba(X_test)[:, 1])\n",
    "test_rfc_best_roc_auc_score"
   ]
  },
  {
   "cell_type": "code",
   "execution_count": 218,
   "id": "1c725b94",
   "metadata": {},
   "outputs": [
    {
     "data": {
      "text/plain": [
       "0.790559570068478"
      ]
     },
     "execution_count": 218,
     "metadata": {},
     "output_type": "execute_result"
    }
   ],
   "source": [
    "precision, recall, _ = precision_recall_curve(y_test, rfc_best.predict_proba(X_test)[:, 1])\n",
    "test_rfc_best_auc_score = auc(recall, precision)\n",
    "test_rfc_best_auc_score"
   ]
  },
  {
   "cell_type": "markdown",
   "id": "7a3e4686",
   "metadata": {},
   "source": [
    "Since we have an imbalanced data thus using a Precision Recall score gives a better picture of our model "
   ]
  },
  {
   "cell_type": "code",
   "execution_count": 219,
   "id": "68fe363e",
   "metadata": {},
   "outputs": [
    {
     "data": {
      "text/plain": [
       "Text(0.5, 1.0, 'Test Data Precision Recall Curve')"
      ]
     },
     "execution_count": 219,
     "metadata": {},
     "output_type": "execute_result"
    },
    {
     "data": {
      "image/png": "[encoded data removed]",
      "text/plain": [
       "<Figure size 576x432 with 1 Axes>"
      ]
     },
     "metadata": {
      "needs_background": "light"
     },
     "output_type": "display_data"
    }
   ],
   "source": [
    "# calculate roc curves\n",
    "rfc_best_fpr, rfc_best_tpr, _ = roc_curve(y_test, rfc_best.predict_proba(X_test)[:, 1])\n",
    "\n",
    "# plot the roc curve for the model\n",
    "plt.figure(figsize=(8,6))\n",
    "plt.plot(ns_fpr, ns_tpr, linestyle='--', label='No Skill')\n",
    "plt.plot(rfc_fpr, rfc_tpr, color ='blue', label='Base Random Forest')\n",
    "plt.plot(rfc_best_fpr, rfc_best_tpr, color ='green', label='Best Tunned Random Forest')\n",
    "plt.legend()\n",
    "plt.title('Test Data Precision Recall Curve')"
   ]
  },
  {
   "cell_type": "markdown",
   "id": "76a4c356",
   "metadata": {},
   "source": [
    "##### e) Identify the top 5 features"
   ]
  },
  {
   "cell_type": "code",
   "execution_count": 252,
   "id": "8a01a870",
   "metadata": {},
   "outputs": [
    {
     "name": "stderr",
     "output_type": "stream",
     "text": [
      "C:\\Users\\aksha\\anaconda3\\lib\\site-packages\\seaborn\\_decorators.py:36: FutureWarning: Pass the following variables as keyword args: x, y. From version 0.12, the only valid positional argument will be `data`, and passing other arguments without an explicit keyword will result in an error or misinterpretation.\n",
      "  warnings.warn(\n"
     ]
    },
    {
     "data": {
      "text/plain": [
       "Text(0.5, 1.0, 'Top 10 features in Random Forest')"
      ]
     },
     "execution_count": 252,
     "metadata": {},
     "output_type": "execute_result"
    },
    {
     "data": {
      "image/png": "[encoded data removed]",
      "text/plain": [
       "<Figure size 576x432 with 1 Axes>"
      ]
     },
     "metadata": {
      "needs_background": "light"
     },
     "output_type": "display_data"
    }
   ],
   "source": [
    "sorted_index_rfc = rfc_best.feature_importances_.argsort()[-10:]\n",
    "\n",
    "plt.figure(figsize=(8,6))\n",
    "sns.barplot(rfc_best.feature_importances_[sorted_index_rfc], X_train.columns[sorted_index_rfc])\n",
    "plt.xlabel(\"Feature Importance\")\n",
    "plt.ylabel('Features')\n",
    "plt.title('Top 10 features in Random Forest')"
   ]
  },
  {
   "cell_type": "markdown",
   "id": "074a1ebb",
   "metadata": {},
   "source": [
    "##### f) Using the model from part B, predict for the train data. Look at the classification report for the train data - is there overfitting for the RandomForest model happening?"
   ]
  },
  {
   "cell_type": "code",
   "execution_count": 221,
   "id": "26684970",
   "metadata": {},
   "outputs": [
    {
     "name": "stdout",
     "output_type": "stream",
     "text": [
      "[[16612   653]\n",
      " [ 2293  3234]]\n",
      "              precision    recall  f1-score   support\n",
      "\n",
      "           0       0.88      0.96      0.92     17265\n",
      "           1       0.83      0.59      0.69      5527\n",
      "\n",
      "    accuracy                           0.87     22792\n",
      "   macro avg       0.86      0.77      0.80     22792\n",
      "weighted avg       0.87      0.87      0.86     22792\n",
      "\n"
     ]
    }
   ],
   "source": [
    "print(confusion_matrix(y_train, best_train_pred))\n",
    "print(classification_report(y_train, best_train_pred))"
   ]
  },
  {
   "cell_type": "code",
   "execution_count": 222,
   "id": "17403345",
   "metadata": {},
   "outputs": [
    {
     "data": {
      "text/plain": [
       "0.9350929441971176"
      ]
     },
     "execution_count": 222,
     "metadata": {},
     "output_type": "execute_result"
    }
   ],
   "source": [
    "train_rfc_best_roc_auc_score = roc_auc_score(y_train, rfc_best.predict_proba(X_train)[:, 1])\n",
    "train_rfc_best_roc_auc_score"
   ]
  },
  {
   "cell_type": "code",
   "execution_count": 223,
   "id": "edf5f68f",
   "metadata": {},
   "outputs": [
    {
     "data": {
      "text/plain": [
       "0.8381560823190298"
      ]
     },
     "execution_count": 223,
     "metadata": {},
     "output_type": "execute_result"
    }
   ],
   "source": [
    "precision, recall, _ = precision_recall_curve(y_train, rfc_best.predict_proba(X_train)[:, 1])\n",
    "train_rfc_best_auc_score = auc(recall, precision)\n",
    "train_rfc_best_auc_score"
   ]
  },
  {
   "cell_type": "code",
   "execution_count": 224,
   "id": "79d69264",
   "metadata": {},
   "outputs": [
    {
     "data": {
      "text/html": [
       "<div>\n",
       "<style scoped>\n",
       "    .dataframe tbody tr th:only-of-type {\n",
       "        vertical-align: middle;\n",
       "    }\n",
       "\n",
       "    .dataframe tbody tr th {\n",
       "        vertical-align: top;\n",
       "    }\n",
       "\n",
       "    .dataframe thead th {\n",
       "        text-align: right;\n",
       "    }\n",
       "</style>\n",
       "<table border=\"1\" class=\"dataframe\">\n",
       "  <thead>\n",
       "    <tr style=\"text-align: right;\">\n",
       "      <th></th>\n",
       "      <th>Base_Random_Forest</th>\n",
       "      <th>Best_Random_Forest</th>\n",
       "    </tr>\n",
       "  </thead>\n",
       "  <tbody>\n",
       "    <tr>\n",
       "      <th>Train_ROC_AUC_Score</th>\n",
       "      <td>1.00</td>\n",
       "      <td>0.94</td>\n",
       "    </tr>\n",
       "    <tr>\n",
       "      <th>Test_ROC_AUC_Score</th>\n",
       "      <td>0.89</td>\n",
       "      <td>0.91</td>\n",
       "    </tr>\n",
       "    <tr>\n",
       "      <th>Train_Precision_Recall_AUC_Score</th>\n",
       "      <td>0.99</td>\n",
       "      <td>0.84</td>\n",
       "    </tr>\n",
       "    <tr>\n",
       "      <th>Test_Precision_Recall_AUC_Score</th>\n",
       "      <td>0.73</td>\n",
       "      <td>0.79</td>\n",
       "    </tr>\n",
       "  </tbody>\n",
       "</table>\n",
       "</div>"
      ],
      "text/plain": [
       "                                  Base_Random_Forest  Best_Random_Forest\n",
       "Train_ROC_AUC_Score                             1.00                0.94\n",
       "Test_ROC_AUC_Score                              0.89                0.91\n",
       "Train_Precision_Recall_AUC_Score                0.99                0.84\n",
       "Test_Precision_Recall_AUC_Score                 0.73                0.79"
      ]
     },
     "execution_count": 224,
     "metadata": {},
     "output_type": "execute_result"
    }
   ],
   "source": [
    "# Creating a performance table for all the models\n",
    "perf_summary = pd.DataFrame(index = ['Train_ROC_AUC_Score', 'Test_ROC_AUC_Score', 'Train_Precision_Recall_AUC_Score', 'Test_Precision_Recall_AUC_Score'])\n",
    "perf_summary['Base_Random_Forest'] = np.round([train_base_rfc_roc_auc_score, test_base_rfc_roc_auc_score, train_base_rfc_auc_score, test_base_rfc_auc_score], decimals = 2)\n",
    "perf_summary['Best_Random_Forest'] = np.round([train_rfc_best_roc_auc_score, test_rfc_best_roc_auc_score, train_rfc_best_auc_score, test_rfc_best_auc_score], decimals = 2)\n",
    "perf_summary"
   ]
  },
  {
   "cell_type": "markdown",
   "id": "7660a65f",
   "metadata": {},
   "source": [
    "From above table we can see that the Base model was overfitting the training data as the ROC AUC score fell a lot as we moved from training to test data. The fall in Precision recall score is more.\n",
    "\n",
    "But if we see the Tuned Random Forest then it does not overfit to the Training set because the fall in Train and Test accuracy is less now."
   ]
  },
  {
   "cell_type": "markdown",
   "id": "74687c22",
   "metadata": {},
   "source": [
    "## 3. AdaBoost Classifier - GridSearch:"
   ]
  },
  {
   "cell_type": "code",
   "execution_count": 225,
   "id": "e4b86df2",
   "metadata": {},
   "outputs": [
    {
     "data": {
      "text/plain": [
       "AdaBoostClassifier()"
      ]
     },
     "execution_count": 225,
     "metadata": {},
     "output_type": "execute_result"
    }
   ],
   "source": [
    "from sklearn.ensemble import AdaBoostClassifier\n",
    "\n",
    "ada_base = AdaBoostClassifier()\n",
    "ada_base.fit(X_train, y_train)"
   ]
  },
  {
   "cell_type": "code",
   "execution_count": 226,
   "id": "d8a46cbf",
   "metadata": {},
   "outputs": [],
   "source": [
    "train_ada_base_pred = ada_base.predict(X_train)\n",
    "train_ada_base_prob = ada_base.predict_proba(X_train)\n",
    "\n",
    "test_ada_base_pred = ada_base.predict(X_test)\n",
    "test_ada_base_prob = ada_base.predict_proba(X_test)"
   ]
  },
  {
   "cell_type": "code",
   "execution_count": 227,
   "id": "a00bc940",
   "metadata": {},
   "outputs": [
    {
     "name": "stdout",
     "output_type": "stream",
     "text": [
      "[[7004  451]\n",
      " [ 868 1446]]\n",
      "              precision    recall  f1-score   support\n",
      "\n",
      "           0       0.89      0.94      0.91      7455\n",
      "           1       0.76      0.62      0.69      2314\n",
      "\n",
      "    accuracy                           0.86      9769\n",
      "   macro avg       0.83      0.78      0.80      9769\n",
      "weighted avg       0.86      0.86      0.86      9769\n",
      "\n"
     ]
    }
   ],
   "source": [
    "print(confusion_matrix(y_test, test_ada_base_pred))\n",
    "print(classification_report(y_test, test_ada_base_pred))"
   ]
  },
  {
   "cell_type": "code",
   "execution_count": 228,
   "id": "ac76415e",
   "metadata": {},
   "outputs": [
    {
     "name": "stdout",
     "output_type": "stream",
     "text": [
      "[[16158  1107]\n",
      " [ 2092  3435]]\n",
      "              precision    recall  f1-score   support\n",
      "\n",
      "           0       0.89      0.94      0.91     17265\n",
      "           1       0.76      0.62      0.68      5527\n",
      "\n",
      "    accuracy                           0.86     22792\n",
      "   macro avg       0.82      0.78      0.80     22792\n",
      "weighted avg       0.85      0.86      0.85     22792\n",
      "\n"
     ]
    }
   ],
   "source": [
    "print(confusion_matrix(y_train, train_ada_base_pred))\n",
    "print(classification_report(y_train, train_ada_base_pred))"
   ]
  },
  {
   "cell_type": "code",
   "execution_count": 229,
   "id": "bdf9e66c",
   "metadata": {},
   "outputs": [
    {
     "data": {
      "text/plain": [
       "0.9164925305216489"
      ]
     },
     "execution_count": 229,
     "metadata": {},
     "output_type": "execute_result"
    }
   ],
   "source": [
    "test_ada_base_roc_auc_score = roc_auc_score(y_test, ada_base.predict_proba(X_test)[:, 1])\n",
    "test_ada_base_roc_auc_score"
   ]
  },
  {
   "cell_type": "code",
   "execution_count": 230,
   "id": "90fa85c9",
   "metadata": {},
   "outputs": [
    {
     "data": {
      "text/plain": [
       "0.9176491248422627"
      ]
     },
     "execution_count": 230,
     "metadata": {},
     "output_type": "execute_result"
    }
   ],
   "source": [
    "train_ada_base_roc_auc_score = roc_auc_score(y_train, ada_base.predict_proba(X_train)[:, 1])\n",
    "train_ada_base_roc_auc_score"
   ]
  },
  {
   "cell_type": "code",
   "execution_count": 231,
   "id": "48ee6eba",
   "metadata": {},
   "outputs": [
    {
     "data": {
      "text/plain": [
       "0.8032184593732652"
      ]
     },
     "execution_count": 231,
     "metadata": {},
     "output_type": "execute_result"
    }
   ],
   "source": [
    "precision, recall, _ = precision_recall_curve(y_test, ada_base.predict_proba(X_test)[:, 1])\n",
    "test_ada_base_auc_score = auc(recall, precision)\n",
    "test_ada_base_auc_score"
   ]
  },
  {
   "cell_type": "code",
   "execution_count": 232,
   "id": "503d4e91",
   "metadata": {},
   "outputs": [
    {
     "data": {
      "text/plain": [
       "0.8050672143547735"
      ]
     },
     "execution_count": 232,
     "metadata": {},
     "output_type": "execute_result"
    }
   ],
   "source": [
    "precision, recall, _ = precision_recall_curve(y_train, ada_base.predict_proba(X_train)[:, 1])\n",
    "train_ada_base_auc_score = auc(recall, precision)\n",
    "train_ada_base_auc_score"
   ]
  },
  {
   "cell_type": "code",
   "execution_count": 233,
   "id": "4b1acf21",
   "metadata": {},
   "outputs": [
    {
     "data": {
      "text/plain": [
       "Text(0.5, 1.0, 'Test Data Precision Recall Curve')"
      ]
     },
     "execution_count": 233,
     "metadata": {},
     "output_type": "execute_result"
    },
    {
     "data": {
      "image/png": "[encoded data removed]",
      "text/plain": [
       "<Figure size 576x432 with 1 Axes>"
      ]
     },
     "metadata": {
      "needs_background": "light"
     },
     "output_type": "display_data"
    }
   ],
   "source": [
    "# calculate roc curves\n",
    "ada_base_fpr, ada_base_tpr, _ = roc_curve(y_test, ada_base.predict_proba(X_test)[:, 1])\n",
    "\n",
    "# plot the roc curve for the model\n",
    "plt.figure(figsize=(8,6))\n",
    "plt.plot(ns_fpr, ns_tpr, linestyle='--', label='No Skill')\n",
    "plt.plot(rfc_fpr, rfc_tpr, color ='blue', label='Base Random Forest')\n",
    "plt.plot(rfc_best_fpr, rfc_best_tpr, color ='green', label='Best Tunned Random Forest')\n",
    "plt.plot(ada_base_fpr, ada_base_tpr, color ='orange', label='Base Ada Boost')\n",
    "plt.legend()\n",
    "plt.title('Test Data Precision Recall Curve')"
   ]
  },
  {
   "cell_type": "code",
   "execution_count": 234,
   "id": "35985a0d",
   "metadata": {},
   "outputs": [
    {
     "data": {
      "text/html": [
       "<div>\n",
       "<style scoped>\n",
       "    .dataframe tbody tr th:only-of-type {\n",
       "        vertical-align: middle;\n",
       "    }\n",
       "\n",
       "    .dataframe tbody tr th {\n",
       "        vertical-align: top;\n",
       "    }\n",
       "\n",
       "    .dataframe thead th {\n",
       "        text-align: right;\n",
       "    }\n",
       "</style>\n",
       "<table border=\"1\" class=\"dataframe\">\n",
       "  <thead>\n",
       "    <tr style=\"text-align: right;\">\n",
       "      <th></th>\n",
       "      <th>Base_Random_Forest</th>\n",
       "      <th>Best_Random_Forest</th>\n",
       "      <th>Base_Ada_Boost</th>\n",
       "    </tr>\n",
       "  </thead>\n",
       "  <tbody>\n",
       "    <tr>\n",
       "      <th>Train_ROC_AUC_Score</th>\n",
       "      <td>1.00</td>\n",
       "      <td>0.94</td>\n",
       "      <td>0.92</td>\n",
       "    </tr>\n",
       "    <tr>\n",
       "      <th>Test_ROC_AUC_Score</th>\n",
       "      <td>0.89</td>\n",
       "      <td>0.91</td>\n",
       "      <td>0.92</td>\n",
       "    </tr>\n",
       "    <tr>\n",
       "      <th>Train_Precision_Recall_AUC_Score</th>\n",
       "      <td>0.99</td>\n",
       "      <td>0.84</td>\n",
       "      <td>0.81</td>\n",
       "    </tr>\n",
       "    <tr>\n",
       "      <th>Test_Precision_Recall_AUC_Score</th>\n",
       "      <td>0.73</td>\n",
       "      <td>0.79</td>\n",
       "      <td>0.80</td>\n",
       "    </tr>\n",
       "  </tbody>\n",
       "</table>\n",
       "</div>"
      ],
      "text/plain": [
       "                                  Base_Random_Forest  Best_Random_Forest  \\\n",
       "Train_ROC_AUC_Score                             1.00                0.94   \n",
       "Test_ROC_AUC_Score                              0.89                0.91   \n",
       "Train_Precision_Recall_AUC_Score                0.99                0.84   \n",
       "Test_Precision_Recall_AUC_Score                 0.73                0.79   \n",
       "\n",
       "                                  Base_Ada_Boost  \n",
       "Train_ROC_AUC_Score                         0.92  \n",
       "Test_ROC_AUC_Score                          0.92  \n",
       "Train_Precision_Recall_AUC_Score            0.81  \n",
       "Test_Precision_Recall_AUC_Score             0.80  "
      ]
     },
     "execution_count": 234,
     "metadata": {},
     "output_type": "execute_result"
    }
   ],
   "source": [
    "perf_summary['Base_Ada_Boost'] = np.round([train_ada_base_roc_auc_score, test_ada_base_roc_auc_score, train_ada_base_auc_score, test_ada_base_auc_score], decimals = 2)\n",
    "perf_summary"
   ]
  },
  {
   "cell_type": "markdown",
   "id": "a97183f5",
   "metadata": {},
   "source": [
    "##### a) Use the AdaBoostClassifier along with the GridSearchCV tool"
   ]
  },
  {
   "cell_type": "code",
   "execution_count": 236,
   "id": "ccf9d532",
   "metadata": {},
   "outputs": [],
   "source": [
    "# Doing a Grid Search for Random Forest\n",
    "ada = AdaBoostClassifier(random_state=42)\n",
    "\n",
    "# Defining the Grid\n",
    "param_grid = {\"n_estimators\": [100, 200, 300, 400], \n",
    "              \"learning_rate\": [0.2,0.4,0.6,0.8,1, 1.2]\n",
    "             }"
   ]
  },
  {
   "cell_type": "code",
   "execution_count": 237,
   "id": "47456491",
   "metadata": {},
   "outputs": [
    {
     "name": "stdout",
     "output_type": "stream",
     "text": [
      "It took 769.2790853977203 seconds.\n"
     ]
    }
   ],
   "source": [
    "# Finding the Best Parameters\n",
    "start = time.time()\n",
    "\n",
    "CV_ada = GridSearchCV(estimator=ada, param_grid=param_grid, cv= 5, scoring= 'roc_auc')\n",
    "CV_ada.fit(X_train, y_train)\n",
    "\n",
    "print ('It took', time.time()-start, 'seconds.')"
   ]
  },
  {
   "cell_type": "markdown",
   "id": "e6481951",
   "metadata": {},
   "source": [
    "##### b) Use the best estimator from GridSearchCV to predict on test data. "
   ]
  },
  {
   "cell_type": "code",
   "execution_count": 238,
   "id": "48230303",
   "metadata": {},
   "outputs": [
    {
     "data": {
      "text/plain": [
       "AdaBoostClassifier(learning_rate=1.2, n_estimators=400, random_state=42)"
      ]
     },
     "execution_count": 238,
     "metadata": {},
     "output_type": "execute_result"
    }
   ],
   "source": [
    "CV_ada.best_estimator_"
   ]
  },
  {
   "cell_type": "code",
   "execution_count": 239,
   "id": "6ab8a04a",
   "metadata": {},
   "outputs": [
    {
     "data": {
      "text/plain": [
       "AdaBoostClassifier(learning_rate=1.2, n_estimators=400, random_state=42)"
      ]
     },
     "execution_count": 239,
     "metadata": {},
     "output_type": "execute_result"
    }
   ],
   "source": [
    "# Fitting the model again with the best parameters\n",
    "ada_best = AdaBoostClassifier(learning_rate=1.2, n_estimators=400, random_state=42)\n",
    "ada_best.fit(X_train, y_train)"
   ]
  },
  {
   "cell_type": "code",
   "execution_count": 240,
   "id": "d05f5f59",
   "metadata": {},
   "outputs": [],
   "source": [
    "best_train_pred = ada_best.predict(X_train)\n",
    "best_train_pred_prob = ada_best.predict_proba(X_train)\n",
    "\n",
    "best_test_pred = ada_best.predict(X_test)\n",
    "best_test_pred_prob = ada_best.predict_proba(X_test)"
   ]
  },
  {
   "cell_type": "markdown",
   "id": "e34d61b8",
   "metadata": {},
   "source": [
    "##### c) Calculate the confusion matrix and classification report (both are in sklearn.metrics). "
   ]
  },
  {
   "cell_type": "code",
   "execution_count": 241,
   "id": "8ba375f9",
   "metadata": {},
   "outputs": [
    {
     "name": "stdout",
     "output_type": "stream",
     "text": [
      "[[7008  447]\n",
      " [ 807 1507]]\n",
      "              precision    recall  f1-score   support\n",
      "\n",
      "           0       0.90      0.94      0.92      7455\n",
      "           1       0.77      0.65      0.71      2314\n",
      "\n",
      "    accuracy                           0.87      9769\n",
      "   macro avg       0.83      0.80      0.81      9769\n",
      "weighted avg       0.87      0.87      0.87      9769\n",
      "\n"
     ]
    }
   ],
   "source": [
    "print(confusion_matrix(y_test, best_test_pred))\n",
    "print(classification_report(y_test, best_test_pred))"
   ]
  },
  {
   "cell_type": "markdown",
   "id": "2113f40c",
   "metadata": {},
   "source": [
    "##### d) Calculate the AUC score"
   ]
  },
  {
   "cell_type": "code",
   "execution_count": 242,
   "id": "53f7f115",
   "metadata": {},
   "outputs": [
    {
     "data": {
      "text/plain": [
       "0.9244122180504519"
      ]
     },
     "execution_count": 242,
     "metadata": {},
     "output_type": "execute_result"
    }
   ],
   "source": [
    "test_ada_best_roc_auc_score = roc_auc_score(y_test, ada_best.predict_proba(X_test)[:, 1])\n",
    "test_ada_best_roc_auc_score"
   ]
  },
  {
   "cell_type": "code",
   "execution_count": 243,
   "id": "90b4cf83",
   "metadata": {},
   "outputs": [
    {
     "data": {
      "text/plain": [
       "0.8204704677929369"
      ]
     },
     "execution_count": 243,
     "metadata": {},
     "output_type": "execute_result"
    }
   ],
   "source": [
    "precision, recall, _ = precision_recall_curve(y_test, ada_best.predict_proba(X_test)[:, 1])\n",
    "test_ada_best_auc_score = auc(recall, precision)\n",
    "test_ada_best_auc_score"
   ]
  },
  {
   "cell_type": "markdown",
   "id": "0179a8e1",
   "metadata": {},
   "source": [
    "Since we have an imbalanced data thus using a Precision Recall score gives a better picture of our model "
   ]
  },
  {
   "cell_type": "code",
   "execution_count": 246,
   "id": "80e6d859",
   "metadata": {},
   "outputs": [
    {
     "data": {
      "text/plain": [
       "Text(0.5, 1.0, 'Test Data Precision Recall Curve')"
      ]
     },
     "execution_count": 246,
     "metadata": {},
     "output_type": "execute_result"
    },
    {
     "data": {
      "image/png": "[encoded data removed]",
      "text/plain": [
       "<Figure size 576x432 with 1 Axes>"
      ]
     },
     "metadata": {
      "needs_background": "light"
     },
     "output_type": "display_data"
    }
   ],
   "source": [
    "# calculate roc curves\n",
    "ada_best_fpr, ada_best_tpr, _ = roc_curve(y_test, ada_best.predict_proba(X_test)[:, 1])\n",
    "\n",
    "# plot the roc curve for the model\n",
    "plt.figure(figsize=(8,6))\n",
    "plt.plot(ns_fpr, ns_tpr, linestyle='--', label='No Skill')\n",
    "plt.plot(rfc_fpr, rfc_tpr, color ='blue', label='Base Random Forest')\n",
    "plt.plot(rfc_best_fpr, rfc_best_tpr, color ='green', label='Best Tunned Random Forest')\n",
    "plt.plot(ada_base_fpr, ada_base_tpr, color ='orange', label='Base Ada Boost')\n",
    "plt.plot(ada_best_fpr, ada_best_tpr, color ='pink', label='Best Ada Boost')\n",
    "plt.legend()\n",
    "plt.title('Test Data Precision Recall Curve')"
   ]
  },
  {
   "cell_type": "markdown",
   "id": "586d5157",
   "metadata": {},
   "source": [
    "##### e) Identify the top 5 features"
   ]
  },
  {
   "cell_type": "code",
   "execution_count": 253,
   "id": "319c9dcd",
   "metadata": {},
   "outputs": [
    {
     "name": "stderr",
     "output_type": "stream",
     "text": [
      "C:\\Users\\aksha\\anaconda3\\lib\\site-packages\\seaborn\\_decorators.py:36: FutureWarning: Pass the following variables as keyword args: x, y. From version 0.12, the only valid positional argument will be `data`, and passing other arguments without an explicit keyword will result in an error or misinterpretation.\n",
      "  warnings.warn(\n",
      "C:\\Users\\aksha\\anaconda3\\lib\\site-packages\\seaborn\\_decorators.py:36: FutureWarning: Pass the following variables as keyword args: x, y. From version 0.12, the only valid positional argument will be `data`, and passing other arguments without an explicit keyword will result in an error or misinterpretation.\n",
      "  warnings.warn(\n"
     ]
    },
    {
     "data": {
      "text/plain": [
       "Text(0.5, 1.0, 'Top 10 features in Random Forest')"
      ]
     },
     "execution_count": 253,
     "metadata": {},
     "output_type": "execute_result"
    },
    {
     "data": {
      "image/png": "[encoded data removed]",
      "text/plain": [
       "<Figure size 1728x432 with 2 Axes>"
      ]
     },
     "metadata": {
      "needs_background": "light"
     },
     "output_type": "display_data"
    }
   ],
   "source": [
    "sorted_index_ada = ada_best.feature_importances_.argsort()[-10:]\n",
    "\n",
    "plt.figure(figsize=(24,6))\n",
    "plt.subplot(1,2,1)\n",
    "sns.barplot(ada_best.feature_importances_[sorted_index_ada], X_train.columns[sorted_index_ada])\n",
    "plt.xlabel(\"Feature Importance\")\n",
    "plt.ylabel('Features')\n",
    "plt.title('Top 10 features in Ada Boost')\n",
    "\n",
    "\n",
    "plt.subplot(1,2,2)\n",
    "sns.barplot(rfc_best.feature_importances_[sorted_index_rfc], X_train.columns[sorted_index_rfc])\n",
    "plt.xlabel(\"Feature Importance\")\n",
    "plt.ylabel('Features')\n",
    "plt.title('Top 10 features in Random Forest')"
   ]
  },
  {
   "cell_type": "markdown",
   "id": "0a85fc7e",
   "metadata": {},
   "source": [
    "We can see that there is a lot of difference between the top 10 features in both Random Forest and Ada Boost Classifier.\n",
    "\n",
    "The top feature is similar in both the models i.e. Capital Gain"
   ]
  },
  {
   "cell_type": "markdown",
   "id": "db1e480b",
   "metadata": {},
   "source": [
    "##### f) Using the model from part B, predict for the train data. Look at the classification report for the train data - is there overfitting for the Ada Boost Classifier happening?"
   ]
  },
  {
   "cell_type": "code",
   "execution_count": 254,
   "id": "b134bb32",
   "metadata": {},
   "outputs": [
    {
     "name": "stdout",
     "output_type": "stream",
     "text": [
      "[[16247  1018]\n",
      " [ 1902  3625]]\n",
      "              precision    recall  f1-score   support\n",
      "\n",
      "           0       0.90      0.94      0.92     17265\n",
      "           1       0.78      0.66      0.71      5527\n",
      "\n",
      "    accuracy                           0.87     22792\n",
      "   macro avg       0.84      0.80      0.82     22792\n",
      "weighted avg       0.87      0.87      0.87     22792\n",
      "\n"
     ]
    }
   ],
   "source": [
    "print(confusion_matrix(y_train, best_train_pred))\n",
    "print(classification_report(y_train, best_train_pred))"
   ]
  },
  {
   "cell_type": "code",
   "execution_count": 255,
   "id": "45b9c992",
   "metadata": {},
   "outputs": [
    {
     "data": {
      "text/plain": [
       "0.9320490658212577"
      ]
     },
     "execution_count": 255,
     "metadata": {},
     "output_type": "execute_result"
    }
   ],
   "source": [
    "train_ada_best_roc_auc_score = roc_auc_score(y_train, ada_best.predict_proba(X_train)[:, 1])\n",
    "train_ada_best_roc_auc_score"
   ]
  },
  {
   "cell_type": "code",
   "execution_count": 256,
   "id": "a8228e19",
   "metadata": {},
   "outputs": [
    {
     "data": {
      "text/plain": [
       "0.8351961617784824"
      ]
     },
     "execution_count": 256,
     "metadata": {},
     "output_type": "execute_result"
    }
   ],
   "source": [
    "precision, recall, _ = precision_recall_curve(y_train, ada_best.predict_proba(X_train)[:, 1])\n",
    "train_ada_best_auc_score = auc(recall, precision)\n",
    "train_ada_best_auc_score"
   ]
  },
  {
   "cell_type": "code",
   "execution_count": 257,
   "id": "fc74d508",
   "metadata": {},
   "outputs": [
    {
     "data": {
      "text/html": [
       "<div>\n",
       "<style scoped>\n",
       "    .dataframe tbody tr th:only-of-type {\n",
       "        vertical-align: middle;\n",
       "    }\n",
       "\n",
       "    .dataframe tbody tr th {\n",
       "        vertical-align: top;\n",
       "    }\n",
       "\n",
       "    .dataframe thead th {\n",
       "        text-align: right;\n",
       "    }\n",
       "</style>\n",
       "<table border=\"1\" class=\"dataframe\">\n",
       "  <thead>\n",
       "    <tr style=\"text-align: right;\">\n",
       "      <th></th>\n",
       "      <th>Base_Random_Forest</th>\n",
       "      <th>Best_Random_Forest</th>\n",
       "      <th>Base_Ada_Boost</th>\n",
       "      <th>Best_Ada_Boost_Classifier</th>\n",
       "    </tr>\n",
       "  </thead>\n",
       "  <tbody>\n",
       "    <tr>\n",
       "      <th>Train_ROC_AUC_Score</th>\n",
       "      <td>1.00</td>\n",
       "      <td>0.94</td>\n",
       "      <td>0.92</td>\n",
       "      <td>0.93</td>\n",
       "    </tr>\n",
       "    <tr>\n",
       "      <th>Test_ROC_AUC_Score</th>\n",
       "      <td>0.89</td>\n",
       "      <td>0.91</td>\n",
       "      <td>0.92</td>\n",
       "      <td>0.92</td>\n",
       "    </tr>\n",
       "    <tr>\n",
       "      <th>Train_Precision_Recall_AUC_Score</th>\n",
       "      <td>0.99</td>\n",
       "      <td>0.84</td>\n",
       "      <td>0.81</td>\n",
       "      <td>0.84</td>\n",
       "    </tr>\n",
       "    <tr>\n",
       "      <th>Test_Precision_Recall_AUC_Score</th>\n",
       "      <td>0.73</td>\n",
       "      <td>0.79</td>\n",
       "      <td>0.80</td>\n",
       "      <td>0.82</td>\n",
       "    </tr>\n",
       "  </tbody>\n",
       "</table>\n",
       "</div>"
      ],
      "text/plain": [
       "                                  Base_Random_Forest  Best_Random_Forest  \\\n",
       "Train_ROC_AUC_Score                             1.00                0.94   \n",
       "Test_ROC_AUC_Score                              0.89                0.91   \n",
       "Train_Precision_Recall_AUC_Score                0.99                0.84   \n",
       "Test_Precision_Recall_AUC_Score                 0.73                0.79   \n",
       "\n",
       "                                  Base_Ada_Boost  Best_Ada_Boost_Classifier  \n",
       "Train_ROC_AUC_Score                         0.92                       0.93  \n",
       "Test_ROC_AUC_Score                          0.92                       0.92  \n",
       "Train_Precision_Recall_AUC_Score            0.81                       0.84  \n",
       "Test_Precision_Recall_AUC_Score             0.80                       0.82  "
      ]
     },
     "execution_count": 257,
     "metadata": {},
     "output_type": "execute_result"
    }
   ],
   "source": [
    "# Creating a performance table for all the models\n",
    "perf_summary['Best_Ada_Boost_Classifier'] = np.round([train_ada_best_roc_auc_score, test_ada_best_roc_auc_score, train_ada_best_auc_score, test_ada_best_auc_score], decimals = 2)\n",
    "perf_summary"
   ]
  },
  {
   "cell_type": "markdown",
   "id": "35feb4fa",
   "metadata": {},
   "source": [
    "From above table we can see that the Ada Boost Classifier is not overfitting the training data as there is not much difference between the training and test error. The ROC_AUC score and PRecision Recall Score is almost similar in both training set and test set."
   ]
  },
  {
   "cell_type": "markdown",
   "id": "a94dc523",
   "metadata": {},
   "source": [
    "## 4. Gradient Boosting Classifier - GridSearch:"
   ]
  },
  {
   "cell_type": "markdown",
   "id": "4a0f2fd9",
   "metadata": {},
   "source": [
    "##### a) Use GradientBoostingClassifier along with the GridSearchCV tool. Run the GridSearchCV using the following hyperparameters:\n",
    "n_estimators: 100,200, 300 & 400\n",
    "\n",
    "learning_rate: choose 3 learning rates of your choice\n",
    "\n",
    "max_depth: 1, 2 (you can try deeper, but remember part of the value of boosting stems from minimal complexity of trees)"
   ]
  },
  {
   "cell_type": "code",
   "execution_count": 266,
   "id": "6970f0f6",
   "metadata": {},
   "outputs": [],
   "source": [
    "# Doing a Grid Search for Gradient Boosting Classifier\n",
    "from sklearn.ensemble import GradientBoostingClassifier\n",
    "gb = GradientBoostingClassifier(random_state=42)\n",
    "\n",
    "# Defining the Grid\n",
    "param_grid = {\"loss\":[\"deviance\"],\n",
    "              \"learning_rate\": [0.2,0.6,0.8],\n",
    "              \"max_depth\":[1,2,3],\n",
    "              \"max_features\":['auto', 'sqrt', 'log2'],\n",
    "              \"n_estimators\":[10, 50, 100, 200, 300]}"
   ]
  },
  {
   "cell_type": "code",
   "execution_count": 267,
   "id": "a37f9865",
   "metadata": {},
   "outputs": [
    {
     "name": "stdout",
     "output_type": "stream",
     "text": [
      "It took 874.6186571121216 seconds.\n"
     ]
    }
   ],
   "source": [
    "# Finding the Best Parameters\n",
    "start = time.time()\n",
    "\n",
    "CV_gb = GridSearchCV(estimator=gb, param_grid=param_grid, cv= 5, scoring= 'roc_auc')\n",
    "CV_gb.fit(X_train, y_train)\n",
    "\n",
    "print ('It took', time.time()-start, 'seconds.')"
   ]
  },
  {
   "cell_type": "markdown",
   "id": "78b39f1b",
   "metadata": {},
   "source": [
    "##### b) Use the best estimator from GridSearchCV to predict on test data. "
   ]
  },
  {
   "cell_type": "code",
   "execution_count": 268,
   "id": "a8db323c",
   "metadata": {},
   "outputs": [
    {
     "data": {
      "text/plain": [
       "GradientBoostingClassifier(learning_rate=0.2, max_features='auto',\n",
       "                           n_estimators=300, random_state=42)"
      ]
     },
     "execution_count": 268,
     "metadata": {},
     "output_type": "execute_result"
    }
   ],
   "source": [
    "CV_gb.best_estimator_"
   ]
  },
  {
   "cell_type": "code",
   "execution_count": 239,
   "id": "64d25828",
   "metadata": {},
   "outputs": [
    {
     "data": {
      "text/plain": [
       "AdaBoostClassifier(learning_rate=1.2, n_estimators=400, random_state=42)"
      ]
     },
     "execution_count": 239,
     "metadata": {},
     "output_type": "execute_result"
    }
   ],
   "source": [
    "# Fitting the model again with the best parameters\n",
    "gb_best = AdaBoostClassifier(learning_rate=1.2, n_estimators=400, random_state=42)\n",
    "gb_best.fit(X_train, y_train)"
   ]
  },
  {
   "cell_type": "code",
   "execution_count": 240,
   "id": "0be54d7c",
   "metadata": {},
   "outputs": [],
   "source": [
    "best_train_pred = gb_best.predict(X_train)\n",
    "best_train_pred_prob = gb_best.predict_proba(X_train)\n",
    "\n",
    "best_test_pred = gb_best.predict(X_test)\n",
    "best_test_pred_prob = gb_best.predict_proba(X_test)"
   ]
  },
  {
   "cell_type": "markdown",
   "id": "c8a00851",
   "metadata": {},
   "source": [
    "##### c) Calculate the confusion matrix and classification report (both are in sklearn.metrics). "
   ]
  },
  {
   "cell_type": "code",
   "execution_count": 241,
   "id": "a916e046",
   "metadata": {},
   "outputs": [
    {
     "name": "stdout",
     "output_type": "stream",
     "text": [
      "[[7008  447]\n",
      " [ 807 1507]]\n",
      "              precision    recall  f1-score   support\n",
      "\n",
      "           0       0.90      0.94      0.92      7455\n",
      "           1       0.77      0.65      0.71      2314\n",
      "\n",
      "    accuracy                           0.87      9769\n",
      "   macro avg       0.83      0.80      0.81      9769\n",
      "weighted avg       0.87      0.87      0.87      9769\n",
      "\n"
     ]
    }
   ],
   "source": [
    "print(confusion_matrix(y_test, best_test_pred))\n",
    "print(classification_report(y_test, best_test_pred))"
   ]
  },
  {
   "cell_type": "markdown",
   "id": "f4d983e2",
   "metadata": {},
   "source": [
    "##### d) Calculate the AUC score"
   ]
  },
  {
   "cell_type": "code",
   "execution_count": 242,
   "id": "c8c2aba8",
   "metadata": {},
   "outputs": [
    {
     "data": {
      "text/plain": [
       "0.9244122180504519"
      ]
     },
     "execution_count": 242,
     "metadata": {},
     "output_type": "execute_result"
    }
   ],
   "source": [
    "test_gb_best_roc_auc_score = roc_auc_score(y_test, gb_best.predict_proba(X_test)[:, 1])\n",
    "test_gb_best_roc_auc_score"
   ]
  },
  {
   "cell_type": "code",
   "execution_count": 243,
   "id": "90cd8bfa",
   "metadata": {},
   "outputs": [
    {
     "data": {
      "text/plain": [
       "0.8204704677929369"
      ]
     },
     "execution_count": 243,
     "metadata": {},
     "output_type": "execute_result"
    }
   ],
   "source": [
    "precision, recall, _ = precision_recall_curve(y_test, gb_best.predict_proba(X_test)[:, 1])\n",
    "test_gb_best_auc_score = auc(recall, precision)\n",
    "test_gb_best_auc_score"
   ]
  },
  {
   "cell_type": "markdown",
   "id": "75d8626f",
   "metadata": {},
   "source": [
    "Since we have an imbalanced data thus using a Precision Recall score gives a better picture of our model "
   ]
  },
  {
   "cell_type": "code",
   "execution_count": 246,
   "id": "037ed301",
   "metadata": {},
   "outputs": [
    {
     "data": {
      "text/plain": [
       "Text(0.5, 1.0, 'Test Data Precision Recall Curve')"
      ]
     },
     "execution_count": 246,
     "metadata": {},
     "output_type": "execute_result"
    },
    {
     "data": {
      "image/png": "[encoded data removed]",
      "text/plain": [
       "<Figure size 576x432 with 1 Axes>"
      ]
     },
     "metadata": {
      "needs_background": "light"
     },
     "output_type": "display_data"
    }
   ],
   "source": [
    "# calculate roc curves\n",
    "gb_best_fpr, gb_best_tpr, _ = roc_curve(y_test, gb_best.predict_proba(X_test)[:, 1])\n",
    "\n",
    "# plot the roc curve for the model\n",
    "plt.figure(figsize=(8,6))\n",
    "plt.plot(ns_fpr, ns_tpr, linestyle='--', label='No Skill')\n",
    "plt.plot(rfc_fpr, rfc_tpr, color ='blue', label='Base Random Forest')\n",
    "plt.plot(rfc_best_fpr, rfc_best_tpr, color ='green', label='Best Tunned Random Forest')\n",
    "plt.plot(ada_base_fpr, ada_base_tpr, color ='orange', label='Base Ada Boost')\n",
    "plt.plot(ada_best_fpr, ada_best_tpr, color ='pink', label='Best Ada Boost')\n",
    "plt.plot(gb_best_fpr, gb_best_tpr, color ='blue', label='Best Gradient Boosting')\n",
    "plt.legend()\n",
    "plt.title('Test Data Precision Recall Curve')"
   ]
  },
  {
   "cell_type": "markdown",
   "id": "abd6479f",
   "metadata": {},
   "source": [
    "##### e) Identify the top 5 features"
   ]
  },
  {
   "cell_type": "code",
   "execution_count": 253,
   "id": "d2099f5b",
   "metadata": {},
   "outputs": [
    {
     "name": "stderr",
     "output_type": "stream",
     "text": [
      "C:\\Users\\aksha\\anaconda3\\lib\\site-packages\\seaborn\\_decorators.py:36: FutureWarning: Pass the following variables as keyword args: x, y. From version 0.12, the only valid positional argument will be `data`, and passing other arguments without an explicit keyword will result in an error or misinterpretation.\n",
      "  warnings.warn(\n",
      "C:\\Users\\aksha\\anaconda3\\lib\\site-packages\\seaborn\\_decorators.py:36: FutureWarning: Pass the following variables as keyword args: x, y. From version 0.12, the only valid positional argument will be `data`, and passing other arguments without an explicit keyword will result in an error or misinterpretation.\n",
      "  warnings.warn(\n"
     ]
    },
    {
     "data": {
      "text/plain": [
       "Text(0.5, 1.0, 'Top 10 features in Random Forest')"
      ]
     },
     "execution_count": 253,
     "metadata": {},
     "output_type": "execute_result"
    },
    {
     "data": {
      "image/png": "[encoded data removed]",
      "text/plain": [
       "<Figure size 1728x432 with 2 Axes>"
      ]
     },
     "metadata": {
      "needs_background": "light"
     },
     "output_type": "display_data"
    }
   ],
   "source": [
    "sorted_index_gb = gb_best.feature_importances_.argsort()[-10:]\n",
    "\n",
    "plt.figure(figsize=(24,6))\n",
    "plt.subplot(2,2,1)\n",
    "sns.barplot(ada_best.feature_importances_[sorted_index_ada], X_train.columns[sorted_index_ada])\n",
    "plt.xlabel(\"Feature Importance\")\n",
    "plt.ylabel('Features')\n",
    "plt.title('Top 10 features in Ada Boost')\n",
    "\n",
    "\n",
    "plt.subplot(2,2,2)\n",
    "sns.barplot(rfc_best.feature_importances_[sorted_index_rfc], X_train.columns[sorted_index_rfc])\n",
    "plt.xlabel(\"Feature Importance\")\n",
    "plt.ylabel('Features')\n",
    "plt.title('Top 10 features in Random Forest')\n",
    "\n",
    "plt.subplot(2,2,3)\n",
    "sns.barplot(gb_best.feature_importances_[sorted_index_gb], X_train.columns[sorted_index_gb])\n",
    "plt.xlabel(\"Feature Importance\")\n",
    "plt.ylabel('Features')\n",
    "plt.title('Top 10 features in Gradient Boost')"
   ]
  },
  {
   "cell_type": "markdown",
   "id": "db2e6859",
   "metadata": {},
   "source": [
    "We can see that there is a lot of difference between the top 10 features in both Random Forest and Ada Boost Classifier.\n",
    "\n",
    "The top feature is similar in both the models i.e. Capital Gain"
   ]
  },
  {
   "cell_type": "markdown",
   "id": "e3fe4477",
   "metadata": {},
   "source": [
    "##### f) Using the model from part B, predict for the train data. Look at the classification report for the train data - is there overfitting for the Gradient Boost Classifier happening?"
   ]
  },
  {
   "cell_type": "code",
   "execution_count": 254,
   "id": "9cfc1e71",
   "metadata": {},
   "outputs": [
    {
     "name": "stdout",
     "output_type": "stream",
     "text": [
      "[[16247  1018]\n",
      " [ 1902  3625]]\n",
      "              precision    recall  f1-score   support\n",
      "\n",
      "           0       0.90      0.94      0.92     17265\n",
      "           1       0.78      0.66      0.71      5527\n",
      "\n",
      "    accuracy                           0.87     22792\n",
      "   macro avg       0.84      0.80      0.82     22792\n",
      "weighted avg       0.87      0.87      0.87     22792\n",
      "\n"
     ]
    }
   ],
   "source": [
    "print(confusion_matrix(y_train, best_train_pred))\n",
    "print(classification_report(y_train, best_train_pred))"
   ]
  },
  {
   "cell_type": "code",
   "execution_count": 255,
   "id": "a1adc23c",
   "metadata": {},
   "outputs": [
    {
     "data": {
      "text/plain": [
       "0.9320490658212577"
      ]
     },
     "execution_count": 255,
     "metadata": {},
     "output_type": "execute_result"
    }
   ],
   "source": [
    "train_gb_best_roc_auc_score = roc_auc_score(y_train, gb_best.predict_proba(X_train)[:, 1])\n",
    "train_gb_best_roc_auc_score"
   ]
  },
  {
   "cell_type": "code",
   "execution_count": 256,
   "id": "9a6d9509",
   "metadata": {},
   "outputs": [
    {
     "data": {
      "text/plain": [
       "0.8351961617784824"
      ]
     },
     "execution_count": 256,
     "metadata": {},
     "output_type": "execute_result"
    }
   ],
   "source": [
    "precision, recall, _ = precision_recall_curve(y_train, gb_best.predict_proba(X_train)[:, 1])\n",
    "train_gb_best_auc_score = auc(recall, precision)\n",
    "train_gb_best_auc_score"
   ]
  },
  {
   "cell_type": "code",
   "execution_count": 257,
   "id": "ffa0739f",
   "metadata": {},
   "outputs": [
    {
     "data": {
      "text/html": [
       "<div>\n",
       "<style scoped>\n",
       "    .dataframe tbody tr th:only-of-type {\n",
       "        vertical-align: middle;\n",
       "    }\n",
       "\n",
       "    .dataframe tbody tr th {\n",
       "        vertical-align: top;\n",
       "    }\n",
       "\n",
       "    .dataframe thead th {\n",
       "        text-align: right;\n",
       "    }\n",
       "</style>\n",
       "<table border=\"1\" class=\"dataframe\">\n",
       "  <thead>\n",
       "    <tr style=\"text-align: right;\">\n",
       "      <th></th>\n",
       "      <th>Base_Random_Forest</th>\n",
       "      <th>Best_Random_Forest</th>\n",
       "      <th>Base_Ada_Boost</th>\n",
       "      <th>Best_Ada_Boost_Classifier</th>\n",
       "    </tr>\n",
       "  </thead>\n",
       "  <tbody>\n",
       "    <tr>\n",
       "      <th>Train_ROC_AUC_Score</th>\n",
       "      <td>1.00</td>\n",
       "      <td>0.94</td>\n",
       "      <td>0.92</td>\n",
       "      <td>0.93</td>\n",
       "    </tr>\n",
       "    <tr>\n",
       "      <th>Test_ROC_AUC_Score</th>\n",
       "      <td>0.89</td>\n",
       "      <td>0.91</td>\n",
       "      <td>0.92</td>\n",
       "      <td>0.92</td>\n",
       "    </tr>\n",
       "    <tr>\n",
       "      <th>Train_Precision_Recall_AUC_Score</th>\n",
       "      <td>0.99</td>\n",
       "      <td>0.84</td>\n",
       "      <td>0.81</td>\n",
       "      <td>0.84</td>\n",
       "    </tr>\n",
       "    <tr>\n",
       "      <th>Test_Precision_Recall_AUC_Score</th>\n",
       "      <td>0.73</td>\n",
       "      <td>0.79</td>\n",
       "      <td>0.80</td>\n",
       "      <td>0.82</td>\n",
       "    </tr>\n",
       "  </tbody>\n",
       "</table>\n",
       "</div>"
      ],
      "text/plain": [
       "                                  Base_Random_Forest  Best_Random_Forest  \\\n",
       "Train_ROC_AUC_Score                             1.00                0.94   \n",
       "Test_ROC_AUC_Score                              0.89                0.91   \n",
       "Train_Precision_Recall_AUC_Score                0.99                0.84   \n",
       "Test_Precision_Recall_AUC_Score                 0.73                0.79   \n",
       "\n",
       "                                  Base_Ada_Boost  Best_Ada_Boost_Classifier  \n",
       "Train_ROC_AUC_Score                         0.92                       0.93  \n",
       "Test_ROC_AUC_Score                          0.92                       0.92  \n",
       "Train_Precision_Recall_AUC_Score            0.81                       0.84  \n",
       "Test_Precision_Recall_AUC_Score             0.80                       0.82  "
      ]
     },
     "execution_count": 257,
     "metadata": {},
     "output_type": "execute_result"
    }
   ],
   "source": [
    "# Creating a performance table for all the models\n",
    "perf_summary['Best_Gradient_Boost_Classifier'] = np.round([train_gb_best_roc_auc_score, test_gb_best_roc_auc_score, train_gb_best_auc_score, test_gb_best_auc_score], \n",
    "                                                          decimals = 2)\n",
    "perf_summary"
   ]
  },
  {
   "cell_type": "markdown",
   "id": "b7457c86",
   "metadata": {},
   "source": [
    "From above table we can see that the Ada Boost Classifier is not overfitting the training data as there is not much difference between the training and test error. The ROC_AUC score and PRecision Recall Score is almost similar in both training set and test set."
   ]
  },
  {
   "cell_type": "code",
   "execution_count": null,
   "id": "3f8f4784",
   "metadata": {},
   "outputs": [],
   "source": []
  },
  {
   "cell_type": "code",
   "execution_count": null,
   "id": "121b6ff4",
   "metadata": {},
   "outputs": [],
   "source": []
  },
  {
   "cell_type": "code",
   "execution_count": 283,
   "id": "0095fb17",
   "metadata": {},
   "outputs": [],
   "source": [
    "from xgboost import XGBClassifier\n",
    "from sklearn.model_selection import RandomizedSearchCV\n",
    "\n",
    "xgb = XGBClassifier(random_state = 1001)\n",
    "\n",
    "params = {'n_estimators' : list(range(100,1050,50)),\n",
    "        'learning_rate' : list(np.arange(0.1, 1.7, 0.1)),\n",
    "        'gamma': list(np.arange(0, 5.25, 0.25)),\n",
    "        'max_depth': [1,2]\n",
    "        }"
   ]
  },
  {
   "cell_type": "code",
   "execution_count": 288,
   "id": "953fd6f7",
   "metadata": {},
   "outputs": [
    {
     "name": "stderr",
     "output_type": "stream",
     "text": [
      "C:\\Users\\aksha\\anaconda3\\lib\\site-packages\\xgboost\\sklearn.py:1146: UserWarning: The use of label encoder in XGBClassifier is deprecated and will be removed in a future release. To remove this warning, do the following: 1) Pass option use_label_encoder=False when constructing XGBClassifier object; and 2) Encode your labels (y) as integers starting with 0, i.e. 0, 1, 2, ..., [num_class - 1].\n",
      "  warnings.warn(label_encoder_deprecation_msg, UserWarning)\n"
     ]
    },
    {
     "name": "stdout",
     "output_type": "stream",
     "text": [
      "[22:00:06] WARNING: C:/Users/Administrator/workspace/xgboost-win64_release_1.4.0/src/learner.cc:1095: Starting in XGBoost 1.3.0, the default evaluation metric used with the objective 'binary:logistic' was changed from 'error' to 'logloss'. Explicitly set eval_metric if you'd like to restore the old behavior.\n",
      "It took 113.60158705711365 seconds.\n"
     ]
    }
   ],
   "source": [
    "start = time.time()\n",
    "random_search = RandomizedSearchCV(xgb, param_distributions = params, scoring = 'roc_auc', n_jobs = -1, \n",
    "                                   cv = 5, random_state=1001 )\n",
    "\n",
    "random_search.fit(X_train, y_train)\n",
    "print ('It took', time.time()-start, 'seconds.')"
   ]
  },
  {
   "cell_type": "code",
   "execution_count": 289,
   "id": "9c29a4e5",
   "metadata": {},
   "outputs": [
    {
     "data": {
      "text/plain": [
       "{'n_estimators': 700,\n",
       " 'max_depth': 2,\n",
       " 'learning_rate': 0.7000000000000001,\n",
       " 'gamma': 0.25}"
      ]
     },
     "execution_count": 289,
     "metadata": {},
     "output_type": "execute_result"
    }
   ],
   "source": [
    "random_search.best_params_"
   ]
  },
  {
   "cell_type": "code",
   "execution_count": null,
   "id": "b8e3ee23",
   "metadata": {},
   "outputs": [],
   "source": []
  }
 ],
 "metadata": {
  "kernelspec": {
   "display_name": "Python 3",
   "language": "python",
   "name": "python3"
  },
  "language_info": {
   "codemirror_mode": {
    "name": "ipython",
    "version": 3
   },
   "file_extension": ".py",
   "mimetype": "text/x-python",
   "name": "python",
   "nbconvert_exporter": "python",
   "pygments_lexer": "ipython3",
   "version": "3.8.3"
  }
 },
 "nbformat": 4,
 "nbformat_minor": 5
}
